{
 "cells": [
  {
   "cell_type": "code",
   "execution_count": 17,
   "id": "6c39430d",
   "metadata": {},
   "outputs": [],
   "source": [
    "import geopandas as gpd\n",
    "import numpy as np"
   ]
  },
  {
   "cell_type": "code",
   "execution_count": 3,
   "id": "7be55677",
   "metadata": {},
   "outputs": [
    {
     "name": "stderr",
     "output_type": "stream",
     "text": [
      "/home/martin/dev/boundaries_of_change/.pixi/envs/default/lib/python3.13/site-packages/pyogrio/geopandas.py:265: UserWarning: More than one layer found in 'impact_boundaries.gpkg': '1240_mongol_invasion' (default), '900_political', '1000_political', '1300_ostsiedlung', '1550_religion', '1526_political', '1618_political', '1648_political', '1600_religion', '1812_political', '1871_political', '1900_germans', '1850_languages', '1920_political', '1930_political', '1938_political', '1960_political', '1994_political'. Specify layer parameter to avoid this warning.\n",
      "  result = read_func(\n"
     ]
    }
   ],
   "source": [
    "gdf = gpd.read_file(\"/data/uscuni-ulce/boundaries_of_change/impact_boundaries.gpkg\")"
   ]
  },
  {
   "cell_type": "code",
   "execution_count": 4,
   "id": "d533562f",
   "metadata": {},
   "outputs": [
    {
     "data": {
      "text/html": [
       "<div>\n",
       "<style scoped>\n",
       "    .dataframe tbody tr th:only-of-type {\n",
       "        vertical-align: middle;\n",
       "    }\n",
       "\n",
       "    .dataframe tbody tr th {\n",
       "        vertical-align: top;\n",
       "    }\n",
       "\n",
       "    .dataframe thead th {\n",
       "        text-align: right;\n",
       "    }\n",
       "</style>\n",
       "<table border=\"1\" class=\"dataframe\">\n",
       "  <thead>\n",
       "    <tr style=\"text-align: right;\">\n",
       "      <th></th>\n",
       "      <th>NAME</th>\n",
       "      <th>NOTES</th>\n",
       "      <th>geometry</th>\n",
       "    </tr>\n",
       "  </thead>\n",
       "  <tbody>\n",
       "    <tr>\n",
       "      <th>0</th>\n",
       "      <td>Mongol tribes</td>\n",
       "      <td>Shows areas where mass rebuilding had to be do...</td>\n",
       "      <td>POLYGON ((5907163.518 2654794.963, 5797441.638...</td>\n",
       "    </tr>\n",
       "    <tr>\n",
       "      <th>1</th>\n",
       "      <td>Poland</td>\n",
       "      <td>kingdom or duchy</td>\n",
       "      <td>POLYGON ((4664459.064 3115557.414, 4651959.103...</td>\n",
       "    </tr>\n",
       "    <tr>\n",
       "      <th>2</th>\n",
       "      <td>Lithuania</td>\n",
       "      <td>principality or duchy</td>\n",
       "      <td>POLYGON ((5140499.245 3535347.77, 5130777.053 ...</td>\n",
       "    </tr>\n",
       "    <tr>\n",
       "      <th>3</th>\n",
       "      <td>Teutonic Knights</td>\n",
       "      <td>prussian roots</td>\n",
       "      <td>POLYGON ((4724528.321 3495417.339, 4728020.651...</td>\n",
       "    </tr>\n",
       "    <tr>\n",
       "      <th>4</th>\n",
       "      <td>Holy Roman Empire</td>\n",
       "      <td>None</td>\n",
       "      <td>POLYGON ((4615774.889 3381575.08, 4612375.893 ...</td>\n",
       "    </tr>\n",
       "    <tr>\n",
       "      <th>5</th>\n",
       "      <td>Kingdom of Denmark</td>\n",
       "      <td>None</td>\n",
       "      <td>POLYGON ((4195363.306 3521111.703, 4238418.727...</td>\n",
       "    </tr>\n",
       "  </tbody>\n",
       "</table>\n",
       "</div>"
      ],
      "text/plain": [
       "                 NAME                                              NOTES  \\\n",
       "0       Mongol tribes  Shows areas where mass rebuilding had to be do...   \n",
       "1              Poland                                   kingdom or duchy   \n",
       "2           Lithuania                              principality or duchy   \n",
       "3    Teutonic Knights                                     prussian roots   \n",
       "4   Holy Roman Empire                                               None   \n",
       "5  Kingdom of Denmark                                               None   \n",
       "\n",
       "                                            geometry  \n",
       "0  POLYGON ((5907163.518 2654794.963, 5797441.638...  \n",
       "1  POLYGON ((4664459.064 3115557.414, 4651959.103...  \n",
       "2  POLYGON ((5140499.245 3535347.77, 5130777.053 ...  \n",
       "3  POLYGON ((4724528.321 3495417.339, 4728020.651...  \n",
       "4  POLYGON ((4615774.889 3381575.08, 4612375.893 ...  \n",
       "5  POLYGON ((4195363.306 3521111.703, 4238418.727...  "
      ]
     },
     "execution_count": 4,
     "metadata": {},
     "output_type": "execute_result"
    }
   ],
   "source": [
    "gdf"
   ]
  },
  {
   "cell_type": "code",
   "execution_count": 28,
   "id": "1c50e189",
   "metadata": {},
   "outputs": [],
   "source": [
    "indices = gdf.sindex.query(gdf.geometry, predicate=\"intersects\")\n",
    "left, right = np.unique(np.sort(indices, axis=0), axis=1)\n",
    "\n",
    "mask = left == right\n",
    "left = left[~mask]\n",
    "right = right[~mask]\n",
    "geoms = gdf.iloc[left].intersection(gdf.iloc[right], align=False)"
   ]
  },
  {
   "cell_type": "code",
   "execution_count": null,
   "id": "2cc0296c",
   "metadata": {},
   "outputs": [
    {
     "data": {
      "text/plain": [
       "array([[0, 0, 0, 1, 1, 1, 1, 1, 2, 2, 3, 3, 4, 4, 5],\n",
       "       [0, 1, 4, 1, 2, 3, 4, 5, 2, 3, 3, 5, 4, 5, 5]])"
      ]
     },
     "execution_count": 27,
     "metadata": {},
     "output_type": "execute_result"
    }
   ],
   "source": [
    "left, right = np.unique(np.sort(indices, axis=0), axis=1)\n",
    "indices"
   ]
  },
  {
   "cell_type": "code",
   "execution_count": 29,
   "id": "27da44cf",
   "metadata": {},
   "outputs": [
    {
     "data": {
      "text/plain": [
       "<Axes: >"
      ]
     },
     "execution_count": 29,
     "metadata": {},
     "output_type": "execute_result"
    },
    {
     "data": {
      "image/png": "[encoded data removed]",
      "text/plain": [
       "<Figure size 640x480 with 1 Axes>"
      ]
     },
     "metadata": {},
     "output_type": "display_data"
    }
   ],
   "source": [
    "geoms.plot()"
   ]
  },
  {
   "cell_type": "code",
   "execution_count": 32,
   "id": "e28d4690",
   "metadata": {},
   "outputs": [
    {
     "data": {
      "text/plain": [
       "<Axes: >"
      ]
     },
     "execution_count": 32,
     "metadata": {},
     "output_type": "execute_result"
    },
    {
     "data": {
      "image/png": "[encoded data removed]",
      "text/plain": [
       "<Figure size 640x480 with 1 Axes>"
      ]
     },
     "metadata": {},
     "output_type": "display_data"
    }
   ],
   "source": [
    "geoms.plot(cmap='tab20')"
   ]
  },
  {
   "cell_type": "code",
   "execution_count": 8,
   "id": "b0739b70",
   "metadata": {},
   "outputs": [
    {
     "data": {
      "text/html": [
       "<div>\n",
       "<style scoped>\n",
       "    .dataframe tbody tr th:only-of-type {\n",
       "        vertical-align: middle;\n",
       "    }\n",
       "\n",
       "    .dataframe tbody tr th {\n",
       "        vertical-align: top;\n",
       "    }\n",
       "\n",
       "    .dataframe thead th {\n",
       "        text-align: right;\n",
       "    }\n",
       "</style>\n",
       "<table border=\"1\" class=\"dataframe\">\n",
       "  <thead>\n",
       "    <tr style=\"text-align: right;\">\n",
       "      <th></th>\n",
       "      <th>NAME</th>\n",
       "      <th>NOTES</th>\n",
       "      <th>geometry</th>\n",
       "    </tr>\n",
       "  </thead>\n",
       "  <tbody>\n",
       "    <tr>\n",
       "      <th>0</th>\n",
       "      <td>Mongol tribes</td>\n",
       "      <td>Shows areas where mass rebuilding had to be do...</td>\n",
       "      <td>POLYGON ((5907163.518 2654794.963, 5797441.638...</td>\n",
       "    </tr>\n",
       "    <tr>\n",
       "      <th>1</th>\n",
       "      <td>Poland</td>\n",
       "      <td>kingdom or duchy</td>\n",
       "      <td>POLYGON ((4664459.064 3115557.414, 4651959.103...</td>\n",
       "    </tr>\n",
       "    <tr>\n",
       "      <th>2</th>\n",
       "      <td>Lithuania</td>\n",
       "      <td>principality or duchy</td>\n",
       "      <td>POLYGON ((5140499.245 3535347.77, 5130777.053 ...</td>\n",
       "    </tr>\n",
       "    <tr>\n",
       "      <th>3</th>\n",
       "      <td>Teutonic Knights</td>\n",
       "      <td>prussian roots</td>\n",
       "      <td>POLYGON ((4724528.321 3495417.339, 4728020.651...</td>\n",
       "    </tr>\n",
       "    <tr>\n",
       "      <th>4</th>\n",
       "      <td>Holy Roman Empire</td>\n",
       "      <td>None</td>\n",
       "      <td>POLYGON ((4615774.889 3381575.08, 4612375.893 ...</td>\n",
       "    </tr>\n",
       "    <tr>\n",
       "      <th>5</th>\n",
       "      <td>Kingdom of Denmark</td>\n",
       "      <td>None</td>\n",
       "      <td>POLYGON ((4195363.306 3521111.703, 4238418.727...</td>\n",
       "    </tr>\n",
       "  </tbody>\n",
       "</table>\n",
       "</div>"
      ],
      "text/plain": [
       "                 NAME                                              NOTES  \\\n",
       "0       Mongol tribes  Shows areas where mass rebuilding had to be do...   \n",
       "1              Poland                                   kingdom or duchy   \n",
       "2           Lithuania                              principality or duchy   \n",
       "3    Teutonic Knights                                     prussian roots   \n",
       "4   Holy Roman Empire                                               None   \n",
       "5  Kingdom of Denmark                                               None   \n",
       "\n",
       "                                            geometry  \n",
       "0  POLYGON ((5907163.518 2654794.963, 5797441.638...  \n",
       "1  POLYGON ((4664459.064 3115557.414, 4651959.103...  \n",
       "2  POLYGON ((5140499.245 3535347.77, 5130777.053 ...  \n",
       "3  POLYGON ((4724528.321 3495417.339, 4728020.651...  \n",
       "4  POLYGON ((4615774.889 3381575.08, 4612375.893 ...  \n",
       "5  POLYGON ((4195363.306 3521111.703, 4238418.727...  "
      ]
     },
     "execution_count": 8,
     "metadata": {},
     "output_type": "execute_result"
    }
   ],
   "source": [
    "gdf"
   ]
  },
  {
   "cell_type": "code",
   "execution_count": 33,
   "id": "9369bf92",
   "metadata": {},
   "outputs": [],
   "source": [
    "left = gdf.NAME.iloc[left]\n",
    "right = gdf.NAME.iloc[right]"
   ]
  },
  {
   "cell_type": "code",
   "execution_count": 34,
   "id": "7570d834",
   "metadata": {},
   "outputs": [
    {
     "data": {
      "text/plain": [
       "0        Mongol tribes\n",
       "0        Mongol tribes\n",
       "1               Poland\n",
       "1               Poland\n",
       "1               Poland\n",
       "1               Poland\n",
       "2            Lithuania\n",
       "3     Teutonic Knights\n",
       "4    Holy Roman Empire\n",
       "Name: NAME, dtype: object"
      ]
     },
     "execution_count": 34,
     "metadata": {},
     "output_type": "execute_result"
    }
   ],
   "source": [
    "left"
   ]
  },
  {
   "cell_type": "code",
   "execution_count": 35,
   "id": "4556e3dc",
   "metadata": {},
   "outputs": [
    {
     "data": {
      "text/plain": [
       "1                Poland\n",
       "4     Holy Roman Empire\n",
       "2             Lithuania\n",
       "3      Teutonic Knights\n",
       "4     Holy Roman Empire\n",
       "5    Kingdom of Denmark\n",
       "3      Teutonic Knights\n",
       "5    Kingdom of Denmark\n",
       "5    Kingdom of Denmark\n",
       "Name: NAME, dtype: object"
      ]
     },
     "execution_count": 35,
     "metadata": {},
     "output_type": "execute_result"
    }
   ],
   "source": [
    "right"
   ]
  },
  {
   "cell_type": "code",
   "execution_count": null,
   "id": "f6990f7e",
   "metadata": {},
   "outputs": [],
   "source": []
  }
 ],
 "metadata": {
  "kernelspec": {
   "display_name": "default",
   "language": "python",
   "name": "python3"
  },
  "language_info": {
   "codemirror_mode": {
    "name": "ipython",
    "version": 3
   },
   "file_extension": ".py",
   "mimetype": "text/x-python",
   "name": "python",
   "nbconvert_exporter": "python",
   "pygments_lexer": "ipython3",
   "version": "3.13.2"
  }
 },
 "nbformat": 4,
 "nbformat_minor": 5
}
