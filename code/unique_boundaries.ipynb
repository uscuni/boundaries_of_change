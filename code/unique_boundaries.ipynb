{
 "cells": [
  {
   "cell_type": "code",
   "execution_count": 2,
   "id": "6c39430d",
   "metadata": {},
   "outputs": [],
   "source": [
    "import geopandas as gpd\n",
    "import numpy as np"
   ]
  },
  {
   "cell_type": "code",
   "execution_count": 15,
   "id": "7be55677",
   "metadata": {},
   "outputs": [],
   "source": [
    "gdf = gpd.read_file(\"/data/uscuni-ulce/boundaries_of_change/impact_boundaries.gpkg\", layer=\"1850_languages\")"
   ]
  },
  {
   "cell_type": "code",
   "execution_count": 16,
   "id": "d533562f",
   "metadata": {},
   "outputs": [
    {
     "data": {
      "text/html": [
       "<div>\n",
       "<style scoped>\n",
       "    .dataframe tbody tr th:only-of-type {\n",
       "        vertical-align: middle;\n",
       "    }\n",
       "\n",
       "    .dataframe tbody tr th {\n",
       "        vertical-align: top;\n",
       "    }\n",
       "\n",
       "    .dataframe thead th {\n",
       "        text-align: right;\n",
       "    }\n",
       "</style>\n",
       "<table border=\"1\" class=\"dataframe\">\n",
       "  <thead>\n",
       "    <tr style=\"text-align: right;\">\n",
       "      <th></th>\n",
       "      <th>NAME</th>\n",
       "      <th>NOTES</th>\n",
       "      <th>geometry</th>\n",
       "    </tr>\n",
       "  </thead>\n",
       "  <tbody>\n",
       "    <tr>\n",
       "      <th>0</th>\n",
       "      <td>Hungarian</td>\n",
       "      <td>None</td>\n",
       "      <td>POLYGON ((4801118.531 2663848.455, 4804042.445...</td>\n",
       "    </tr>\n",
       "    <tr>\n",
       "      <th>1</th>\n",
       "      <td>German</td>\n",
       "      <td>None</td>\n",
       "      <td>POLYGON ((5058740.098 2889741.659, 5058057.449...</td>\n",
       "    </tr>\n",
       "    <tr>\n",
       "      <th>2</th>\n",
       "      <td>German</td>\n",
       "      <td>None</td>\n",
       "      <td>POLYGON ((4973673.33 2837077.525, 4963761.231 ...</td>\n",
       "    </tr>\n",
       "    <tr>\n",
       "      <th>3</th>\n",
       "      <td>German</td>\n",
       "      <td>None</td>\n",
       "      <td>POLYGON ((4948704.331 2918472.375, 4952431.066...</td>\n",
       "    </tr>\n",
       "    <tr>\n",
       "      <th>4</th>\n",
       "      <td>Slovak</td>\n",
       "      <td>None</td>\n",
       "      <td>POLYGON ((4926481.331 2958432.762, 4948988.617...</td>\n",
       "    </tr>\n",
       "    <tr>\n",
       "      <th>5</th>\n",
       "      <td>Polish</td>\n",
       "      <td>None</td>\n",
       "      <td>POLYGON ((4939638.943 2980727.604, 4908206.871...</td>\n",
       "    </tr>\n",
       "    <tr>\n",
       "      <th>6</th>\n",
       "      <td>Ukrainian</td>\n",
       "      <td>None</td>\n",
       "      <td>POLYGON ((5090951.478 3015083.59, 5121287.083 ...</td>\n",
       "    </tr>\n",
       "    <tr>\n",
       "      <th>7</th>\n",
       "      <td>German</td>\n",
       "      <td>None</td>\n",
       "      <td>POLYGON ((4866541.1 3563317.411, 4891394.367 3...</td>\n",
       "    </tr>\n",
       "    <tr>\n",
       "      <th>8</th>\n",
       "      <td>Czech</td>\n",
       "      <td>None</td>\n",
       "      <td>POLYGON ((4839266.468 2890177.651, 4815875.158...</td>\n",
       "    </tr>\n",
       "    <tr>\n",
       "      <th>9</th>\n",
       "      <td>Slovenian</td>\n",
       "      <td>None</td>\n",
       "      <td>POLYGON ((4767630.582 2594131.388, 4720847.962...</td>\n",
       "    </tr>\n",
       "    <tr>\n",
       "      <th>10</th>\n",
       "      <td>Russian</td>\n",
       "      <td>None</td>\n",
       "      <td>POLYGON ((5223395.632 3537093.56, 5223395.632 ...</td>\n",
       "    </tr>\n",
       "    <tr>\n",
       "      <th>11</th>\n",
       "      <td>German</td>\n",
       "      <td>None</td>\n",
       "      <td>POLYGON ((4503381.88 2621543.079, 4447827.519 ...</td>\n",
       "    </tr>\n",
       "  </tbody>\n",
       "</table>\n",
       "</div>"
      ],
      "text/plain": [
       "         NAME NOTES                                           geometry\n",
       "0   Hungarian  None  POLYGON ((4801118.531 2663848.455, 4804042.445...\n",
       "1      German  None  POLYGON ((5058740.098 2889741.659, 5058057.449...\n",
       "2      German  None  POLYGON ((4973673.33 2837077.525, 4963761.231 ...\n",
       "3      German  None  POLYGON ((4948704.331 2918472.375, 4952431.066...\n",
       "4      Slovak  None  POLYGON ((4926481.331 2958432.762, 4948988.617...\n",
       "5      Polish  None  POLYGON ((4939638.943 2980727.604, 4908206.871...\n",
       "6   Ukrainian  None  POLYGON ((5090951.478 3015083.59, 5121287.083 ...\n",
       "7      German  None  POLYGON ((4866541.1 3563317.411, 4891394.367 3...\n",
       "8       Czech  None  POLYGON ((4839266.468 2890177.651, 4815875.158...\n",
       "9   Slovenian  None  POLYGON ((4767630.582 2594131.388, 4720847.962...\n",
       "10    Russian  None  POLYGON ((5223395.632 3537093.56, 5223395.632 ...\n",
       "11     German  None  POLYGON ((4503381.88 2621543.079, 4447827.519 ..."
      ]
     },
     "execution_count": 16,
     "metadata": {},
     "output_type": "execute_result"
    }
   ],
   "source": [
    "gdf"
   ]
  },
  {
   "cell_type": "code",
   "execution_count": 17,
   "id": "1c50e189",
   "metadata": {},
   "outputs": [],
   "source": [
    "indices = gdf.sindex.query(gdf.geometry, predicate=\"intersects\")\n",
    "left, right = np.unique(np.sort(indices, axis=0), axis=1)\n",
    "\n",
    "mask = left == right\n",
    "left = left[~mask]\n",
    "right = right[~mask]\n",
    "geoms = gdf.iloc[left].intersection(gdf.iloc[right], align=False)"
   ]
  },
  {
   "cell_type": "code",
   "execution_count": 18,
   "id": "2cc0296c",
   "metadata": {},
   "outputs": [
    {
     "data": {
      "text/plain": [
       "array([[ 0,  0,  0,  0,  0,  0,  0,  1,  1,  1,  2,  2,  2,  3,  3,  4,\n",
       "         4,  4,  4,  4,  4,  4,  4,  4,  5,  5,  5,  5,  5,  5,  5,  6,\n",
       "         6,  6,  6,  7,  7,  8,  8,  8,  8,  9,  9,  9, 10, 10, 11, 11,\n",
       "        11, 11, 11, 11],\n",
       "       [ 0,  4,  1,  6,  9,  2, 11,  0,  4,  1,  0,  4,  2,  4,  3,  0,\n",
       "         4,  1,  6,  5,  2,  3,  8, 11,  4,  6,  5, 10,  8, 11,  7,  0,\n",
       "         4,  6,  5,  5,  7,  4,  5,  8, 11,  0,  9, 11,  5, 10,  0,  4,\n",
       "         5,  9,  8, 11]])"
      ]
     },
     "execution_count": 18,
     "metadata": {},
     "output_type": "execute_result"
    }
   ],
   "source": [
    "left, right = np.unique(np.sort(indices, axis=0), axis=1)\n",
    "indices"
   ]
  },
  {
   "cell_type": "code",
   "execution_count": 19,
   "id": "27da44cf",
   "metadata": {},
   "outputs": [
    {
     "data": {
      "text/plain": [
       "<Axes: >"
      ]
     },
     "execution_count": 19,
     "metadata": {},
     "output_type": "execute_result"
    },
    {
     "data": {
      "image/png": "[encoded data removed]",
      "text/plain": [
       "<Figure size 640x480 with 1 Axes>"
      ]
     },
     "metadata": {},
     "output_type": "display_data"
    }
   ],
   "source": [
    "geoms.plot()"
   ]
  },
  {
   "cell_type": "code",
   "execution_count": 20,
   "id": "e28d4690",
   "metadata": {},
   "outputs": [
    {
     "data": {
      "text/plain": [
       "<Axes: >"
      ]
     },
     "execution_count": 20,
     "metadata": {},
     "output_type": "execute_result"
    },
    {
     "data": {
      "image/png": "[encoded data removed]",
      "text/plain": [
       "<Figure size 640x480 with 1 Axes>"
      ]
     },
     "metadata": {},
     "output_type": "display_data"
    }
   ],
   "source": [
    "geoms.plot(cmap='tab20')"
   ]
  },
  {
   "cell_type": "code",
   "execution_count": 21,
   "id": "b0739b70",
   "metadata": {},
   "outputs": [
    {
     "data": {
      "text/html": [
       "<div>\n",
       "<style scoped>\n",
       "    .dataframe tbody tr th:only-of-type {\n",
       "        vertical-align: middle;\n",
       "    }\n",
       "\n",
       "    .dataframe tbody tr th {\n",
       "        vertical-align: top;\n",
       "    }\n",
       "\n",
       "    .dataframe thead th {\n",
       "        text-align: right;\n",
       "    }\n",
       "</style>\n",
       "<table border=\"1\" class=\"dataframe\">\n",
       "  <thead>\n",
       "    <tr style=\"text-align: right;\">\n",
       "      <th></th>\n",
       "      <th>NAME</th>\n",
       "      <th>NOTES</th>\n",
       "      <th>geometry</th>\n",
       "    </tr>\n",
       "  </thead>\n",
       "  <tbody>\n",
       "    <tr>\n",
       "      <th>0</th>\n",
       "      <td>Hungarian</td>\n",
       "      <td>None</td>\n",
       "      <td>POLYGON ((4801118.531 2663848.455, 4804042.445...</td>\n",
       "    </tr>\n",
       "    <tr>\n",
       "      <th>1</th>\n",
       "      <td>German</td>\n",
       "      <td>None</td>\n",
       "      <td>POLYGON ((5058740.098 2889741.659, 5058057.449...</td>\n",
       "    </tr>\n",
       "    <tr>\n",
       "      <th>2</th>\n",
       "      <td>German</td>\n",
       "      <td>None</td>\n",
       "      <td>POLYGON ((4973673.33 2837077.525, 4963761.231 ...</td>\n",
       "    </tr>\n",
       "    <tr>\n",
       "      <th>3</th>\n",
       "      <td>German</td>\n",
       "      <td>None</td>\n",
       "      <td>POLYGON ((4948704.331 2918472.375, 4952431.066...</td>\n",
       "    </tr>\n",
       "    <tr>\n",
       "      <th>4</th>\n",
       "      <td>Slovak</td>\n",
       "      <td>None</td>\n",
       "      <td>POLYGON ((4926481.331 2958432.762, 4948988.617...</td>\n",
       "    </tr>\n",
       "    <tr>\n",
       "      <th>5</th>\n",
       "      <td>Polish</td>\n",
       "      <td>None</td>\n",
       "      <td>POLYGON ((4939638.943 2980727.604, 4908206.871...</td>\n",
       "    </tr>\n",
       "    <tr>\n",
       "      <th>6</th>\n",
       "      <td>Ukrainian</td>\n",
       "      <td>None</td>\n",
       "      <td>POLYGON ((5090951.478 3015083.59, 5121287.083 ...</td>\n",
       "    </tr>\n",
       "    <tr>\n",
       "      <th>7</th>\n",
       "      <td>German</td>\n",
       "      <td>None</td>\n",
       "      <td>POLYGON ((4866541.1 3563317.411, 4891394.367 3...</td>\n",
       "    </tr>\n",
       "    <tr>\n",
       "      <th>8</th>\n",
       "      <td>Czech</td>\n",
       "      <td>None</td>\n",
       "      <td>POLYGON ((4839266.468 2890177.651, 4815875.158...</td>\n",
       "    </tr>\n",
       "    <tr>\n",
       "      <th>9</th>\n",
       "      <td>Slovenian</td>\n",
       "      <td>None</td>\n",
       "      <td>POLYGON ((4767630.582 2594131.388, 4720847.962...</td>\n",
       "    </tr>\n",
       "    <tr>\n",
       "      <th>10</th>\n",
       "      <td>Russian</td>\n",
       "      <td>None</td>\n",
       "      <td>POLYGON ((5223395.632 3537093.56, 5223395.632 ...</td>\n",
       "    </tr>\n",
       "    <tr>\n",
       "      <th>11</th>\n",
       "      <td>German</td>\n",
       "      <td>None</td>\n",
       "      <td>POLYGON ((4503381.88 2621543.079, 4447827.519 ...</td>\n",
       "    </tr>\n",
       "  </tbody>\n",
       "</table>\n",
       "</div>"
      ],
      "text/plain": [
       "         NAME NOTES                                           geometry\n",
       "0   Hungarian  None  POLYGON ((4801118.531 2663848.455, 4804042.445...\n",
       "1      German  None  POLYGON ((5058740.098 2889741.659, 5058057.449...\n",
       "2      German  None  POLYGON ((4973673.33 2837077.525, 4963761.231 ...\n",
       "3      German  None  POLYGON ((4948704.331 2918472.375, 4952431.066...\n",
       "4      Slovak  None  POLYGON ((4926481.331 2958432.762, 4948988.617...\n",
       "5      Polish  None  POLYGON ((4939638.943 2980727.604, 4908206.871...\n",
       "6   Ukrainian  None  POLYGON ((5090951.478 3015083.59, 5121287.083 ...\n",
       "7      German  None  POLYGON ((4866541.1 3563317.411, 4891394.367 3...\n",
       "8       Czech  None  POLYGON ((4839266.468 2890177.651, 4815875.158...\n",
       "9   Slovenian  None  POLYGON ((4767630.582 2594131.388, 4720847.962...\n",
       "10    Russian  None  POLYGON ((5223395.632 3537093.56, 5223395.632 ...\n",
       "11     German  None  POLYGON ((4503381.88 2621543.079, 4447827.519 ..."
      ]
     },
     "execution_count": 21,
     "metadata": {},
     "output_type": "execute_result"
    }
   ],
   "source": [
    "gdf"
   ]
  },
  {
   "cell_type": "code",
   "execution_count": 22,
   "id": "9369bf92",
   "metadata": {},
   "outputs": [],
   "source": [
    "left = gdf.NAME.iloc[left]\n",
    "right = gdf.NAME.iloc[right]"
   ]
  },
  {
   "cell_type": "code",
   "execution_count": 23,
   "id": "7570d834",
   "metadata": {},
   "outputs": [
    {
     "data": {
      "text/plain": [
       "0     Hungarian\n",
       "0     Hungarian\n",
       "0     Hungarian\n",
       "0     Hungarian\n",
       "0     Hungarian\n",
       "0     Hungarian\n",
       "0     Hungarian\n",
       "1        German\n",
       "1        German\n",
       "2        German\n",
       "2        German\n",
       "3        German\n",
       "3        German\n",
       "4        Slovak\n",
       "4        Slovak\n",
       "4        Slovak\n",
       "4        Slovak\n",
       "4        Slovak\n",
       "5        Polish\n",
       "5        Polish\n",
       "5        Polish\n",
       "5        Polish\n",
       "5        Polish\n",
       "5        Polish\n",
       "6     Ukrainian\n",
       "7        German\n",
       "8         Czech\n",
       "8         Czech\n",
       "9     Slovenian\n",
       "9     Slovenian\n",
       "10      Russian\n",
       "11       German\n",
       "Name: NAME, dtype: object"
      ]
     },
     "execution_count": 23,
     "metadata": {},
     "output_type": "execute_result"
    }
   ],
   "source": [
    "left"
   ]
  },
  {
   "cell_type": "code",
   "execution_count": 24,
   "id": "4556e3dc",
   "metadata": {},
   "outputs": [
    {
     "data": {
      "text/plain": [
       "0     Hungarian\n",
       "1        German\n",
       "2        German\n",
       "4        Slovak\n",
       "6     Ukrainian\n",
       "9     Slovenian\n",
       "11       German\n",
       "1        German\n",
       "4        Slovak\n",
       "2        German\n",
       "4        Slovak\n",
       "3        German\n",
       "4        Slovak\n",
       "4        Slovak\n",
       "5        Polish\n",
       "6     Ukrainian\n",
       "8         Czech\n",
       "11       German\n",
       "5        Polish\n",
       "6     Ukrainian\n",
       "7        German\n",
       "8         Czech\n",
       "10      Russian\n",
       "11       German\n",
       "6     Ukrainian\n",
       "7        German\n",
       "8         Czech\n",
       "11       German\n",
       "9     Slovenian\n",
       "11       German\n",
       "10      Russian\n",
       "11       German\n",
       "Name: NAME, dtype: object"
      ]
     },
     "execution_count": 24,
     "metadata": {},
     "output_type": "execute_result"
    }
   ],
   "source": [
    "right"
   ]
  },
  {
   "cell_type": "code",
   "execution_count": 14,
   "id": "f6990f7e",
   "metadata": {},
   "outputs": [
    {
     "data": {
      "text/plain": [
       "0    MULTILINESTRING ((4470617.452 3025026.023, 447...\n",
       "0    MULTILINESTRING ((4603174.085 2858273.123, 460...\n",
       "0    MULTILINESTRING ((4351305.316 3476171.174, 434...\n",
       "1    MULTILINESTRING ((4854633.284 2791782.465, 484...\n",
       "1    MULTILINESTRING ((4630531.409 3110893.427, 463...\n",
       "1    MULTILINESTRING ((4660255.78 3095529.129, 4671...\n",
       "3    MULTILINESTRING ((4598483.274 3432717.975, 459...\n",
       "dtype: geometry"
      ]
     },
     "execution_count": 14,
     "metadata": {},
     "output_type": "execute_result"
    }
   ],
   "source": [
    "geoms"
   ]
  },
  {
   "cell_type": "code",
   "execution_count": null,
   "id": "5cc5dc3f-29de-4769-9174-b249342e0bbb",
   "metadata": {},
   "outputs": [],
   "source": []
  }
 ],
 "metadata": {
  "kernelspec": {
   "display_name": "Python 3 (ipykernel)",
   "language": "python",
   "name": "python3"
  },
  "language_info": {
   "codemirror_mode": {
    "name": "ipython",
    "version": 3
   },
   "file_extension": ".py",
   "mimetype": "text/x-python",
   "name": "python",
   "nbconvert_exporter": "python",
   "pygments_lexer": "ipython3",
   "version": "3.13.2"
  }
 },
 "nbformat": 4,
 "nbformat_minor": 5
}
