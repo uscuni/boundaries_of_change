{
 "cells": [
  {
   "cell_type": "markdown",
   "id": "59c4bfc8-37b7-4700-a980-60314c0772d5",
   "metadata": {},
   "source": [
    "# Generate a single file for all of CE\n",
    "\n",
    "Take all the regions and create a single file containing all the buildings represented as centroids with an information on building area and cluster."
   ]
  },
  {
   "cell_type": "code",
   "execution_count": 6,
   "id": "ec97be9c-27f3-432e-8cf8-3bf2ad3d3b5a",
   "metadata": {},
   "outputs": [],
   "source": [
    "import dask_geopandas as dgpd\n",
    "import dask.dataframe as dd\n",
    "import geopandas as gpd\n",
    "\n",
    "from distributed import Client"
   ]
  },
  {
   "cell_type": "markdown",
   "id": "012cb06b-81d1-4c76-a009-f2c42080e789",
   "metadata": {},
   "source": [
    "Get a Dask Distributed client to manage parallelisation."
   ]
  },
  {
   "cell_type": "code",
   "execution_count": 2,
   "id": "b1efdf78-3585-4dd2-a1b8-38d51db433d6",
   "metadata": {},
   "outputs": [],
   "source": [
    "client = Client(n_workers=6)"
   ]
  },
  {
   "cell_type": "markdown",
   "id": "8b78bc89-fd3a-4d52-97b1-f62ec0d60069",
   "metadata": {},
   "source": [
    "Read the data with a subset of columns."
   ]
  },
  {
   "cell_type": "code",
   "execution_count": 3,
   "id": "16e0713f-cc8b-44f2-94f4-3d9b6028cde9",
   "metadata": {},
   "outputs": [],
   "source": [
    "clusters = dgpd.read_parquet(\n",
    "    \"/data/uscuni-ulce/processed_data/clusters/v3/\",\n",
    "    columns=[\"geometry\", \"final_without_noise\"],\n",
    ")"
   ]
  },
  {
   "cell_type": "markdown",
   "id": "468a0799-cf58-4eb8-918a-d6fd16ac2421",
   "metadata": {},
   "source": [
    "Capture area and set geometry to centroid."
   ]
  },
  {
   "cell_type": "code",
   "execution_count": 4,
   "id": "9b17779e-4332-4f0e-9b2c-1ca80ee04cfe",
   "metadata": {},
   "outputs": [],
   "source": [
    "clusters[\"area\"] = clusters.area\n",
    "clusters = clusters.set_geometry(clusters.centroid)"
   ]
  },
  {
   "cell_type": "markdown",
   "id": "e894354f-9614-477d-91bb-9624164dcaf4",
   "metadata": {},
   "source": [
    "Save to a partitioned Parquet."
   ]
  },
  {
   "cell_type": "code",
   "execution_count": 5,
   "id": "a8302762-d58c-488d-9cd3-46071107f85f",
   "metadata": {},
   "outputs": [],
   "source": [
    "clusters.to_parquet(\"/data/uscuni-ulce/boundaries_of_change/classification/\")"
   ]
  },
  {
   "cell_type": "markdown",
   "id": "4a3049b4-2f7c-4fc6-9502-ae8c9d6ff721",
   "metadata": {},
   "source": [
    "Read all as a single GeoDataFrame."
   ]
  },
  {
   "cell_type": "code",
   "execution_count": 7,
   "id": "487dd4d3-a04a-45e1-a9d9-4c4e0f39d868",
   "metadata": {},
   "outputs": [],
   "source": [
    "complete = gpd.read_parquet(\"/data/uscuni-ulce/boundaries_of_change/classification/\")"
   ]
  },
  {
   "cell_type": "code",
   "execution_count": 8,
   "id": "bf02025f-f3a9-42d1-ae80-e7fccea85e50",
   "metadata": {},
   "outputs": [
    {
     "data": {
      "text/html": [
       "<div>\n",
       "<style scoped>\n",
       "    .dataframe tbody tr th:only-of-type {\n",
       "        vertical-align: middle;\n",
       "    }\n",
       "\n",
       "    .dataframe tbody tr th {\n",
       "        vertical-align: top;\n",
       "    }\n",
       "\n",
       "    .dataframe thead th {\n",
       "        text-align: right;\n",
       "    }\n",
       "</style>\n",
       "<table border=\"1\" class=\"dataframe\">\n",
       "  <thead>\n",
       "    <tr style=\"text-align: right;\">\n",
       "      <th></th>\n",
       "      <th>geometry</th>\n",
       "      <th>final_without_noise</th>\n",
       "      <th>area</th>\n",
       "    </tr>\n",
       "    <tr>\n",
       "      <th>__null_dask_index__</th>\n",
       "      <th></th>\n",
       "      <th></th>\n",
       "      <th></th>\n",
       "    </tr>\n",
       "  </thead>\n",
       "  <tbody>\n",
       "    <tr>\n",
       "      <th>0</th>\n",
       "      <td>POINT (4099683.344 3108236.287)</td>\n",
       "      <td>50</td>\n",
       "      <td>66.767646</td>\n",
       "    </tr>\n",
       "    <tr>\n",
       "      <th>1</th>\n",
       "      <td>POINT (4100189.13 3108803.392)</td>\n",
       "      <td>1</td>\n",
       "      <td>427.019080</td>\n",
       "    </tr>\n",
       "    <tr>\n",
       "      <th>2</th>\n",
       "      <td>POINT (4100069.189 3109146.3)</td>\n",
       "      <td>1</td>\n",
       "      <td>144.324859</td>\n",
       "    </tr>\n",
       "    <tr>\n",
       "      <th>3</th>\n",
       "      <td>POINT (4100144.944 3108299.666)</td>\n",
       "      <td>1</td>\n",
       "      <td>139.581363</td>\n",
       "    </tr>\n",
       "    <tr>\n",
       "      <th>4</th>\n",
       "      <td>POINT (4100022.946 3108688.179)</td>\n",
       "      <td>1</td>\n",
       "      <td>41.651016</td>\n",
       "    </tr>\n",
       "    <tr>\n",
       "      <th>...</th>\n",
       "      <td>...</td>\n",
       "      <td>...</td>\n",
       "      <td>...</td>\n",
       "    </tr>\n",
       "    <tr>\n",
       "      <th>41292</th>\n",
       "      <td>POINT (4180460.733 3188676.499)</td>\n",
       "      <td>99</td>\n",
       "      <td>95.975763</td>\n",
       "    </tr>\n",
       "    <tr>\n",
       "      <th>41293</th>\n",
       "      <td>POINT (4180458.515 3188761.662)</td>\n",
       "      <td>50</td>\n",
       "      <td>31.145408</td>\n",
       "    </tr>\n",
       "    <tr>\n",
       "      <th>41294</th>\n",
       "      <td>POINT (4180462.235 3188947.517)</td>\n",
       "      <td>38</td>\n",
       "      <td>28.739082</td>\n",
       "    </tr>\n",
       "    <tr>\n",
       "      <th>41295</th>\n",
       "      <td>POINT (4180479.7 3188648.267)</td>\n",
       "      <td>99</td>\n",
       "      <td>74.337247</td>\n",
       "    </tr>\n",
       "    <tr>\n",
       "      <th>41296</th>\n",
       "      <td>POINT (4180485.476 3188812.087)</td>\n",
       "      <td>50</td>\n",
       "      <td>39.367747</td>\n",
       "    </tr>\n",
       "  </tbody>\n",
       "</table>\n",
       "<p>80795813 rows × 3 columns</p>\n",
       "</div>"
      ],
      "text/plain": [
       "                                            geometry  final_without_noise  \\\n",
       "__null_dask_index__                                                         \n",
       "0                    POINT (4099683.344 3108236.287)                   50   \n",
       "1                     POINT (4100189.13 3108803.392)                    1   \n",
       "2                      POINT (4100069.189 3109146.3)                    1   \n",
       "3                    POINT (4100144.944 3108299.666)                    1   \n",
       "4                    POINT (4100022.946 3108688.179)                    1   \n",
       "...                                              ...                  ...   \n",
       "41292                POINT (4180460.733 3188676.499)                   99   \n",
       "41293                POINT (4180458.515 3188761.662)                   50   \n",
       "41294                POINT (4180462.235 3188947.517)                   38   \n",
       "41295                  POINT (4180479.7 3188648.267)                   99   \n",
       "41296                POINT (4180485.476 3188812.087)                   50   \n",
       "\n",
       "                           area  \n",
       "__null_dask_index__              \n",
       "0                     66.767646  \n",
       "1                    427.019080  \n",
       "2                    144.324859  \n",
       "3                    139.581363  \n",
       "4                     41.651016  \n",
       "...                         ...  \n",
       "41292                 95.975763  \n",
       "41293                 31.145408  \n",
       "41294                 28.739082  \n",
       "41295                 74.337247  \n",
       "41296                 39.367747  \n",
       "\n",
       "[80795813 rows x 3 columns]"
      ]
     },
     "execution_count": 8,
     "metadata": {},
     "output_type": "execute_result"
    }
   ],
   "source": [
    "complete"
   ]
  },
  {
   "cell_type": "code",
   "execution_count": null,
   "id": "52a3f6a4-b755-4297-9c1d-bb8cf589e4ad",
   "metadata": {},
   "outputs": [],
   "source": []
  }
 ],
 "metadata": {
  "kernelspec": {
   "display_name": "Python 3 (ipykernel)",
   "language": "python",
   "name": "python3"
  },
  "language_info": {
   "codemirror_mode": {
    "name": "ipython",
    "version": 3
   },
   "file_extension": ".py",
   "mimetype": "text/x-python",
   "name": "python",
   "nbconvert_exporter": "python",
   "pygments_lexer": "ipython3",
   "version": "3.13.2"
  }
 },
 "nbformat": 4,
 "nbformat_minor": 5
}
