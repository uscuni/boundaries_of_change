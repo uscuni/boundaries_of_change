{
    "cells": [
        {
            "cell_type": "markdown",
            "id": "59c4bfc8-37b7-4700-a980-60314c0772d5",
            "metadata": {},
            "source": [
                "# Generate a single file for all of CE\n",
                "\n",
                "Take all the regions and create a single file containing all the buildings represented as centroids with an information on building area and cluster."
            ]
        },
        {
            "cell_type": "code",
            "execution_count": 3,
            "id": "ec97be9c-27f3-432e-8cf8-3bf2ad3d3b5a",
            "metadata": {},
            "outputs": [],
            "source": [
                "from pathlib import Path\n",
                "from glob import glob\n",
                "import geopandas as gpd\n",
                "from tqdm import tqdm"
            ]
        },
        {
            "cell_type": "markdown",
            "id": "8b78bc89-fd3a-4d52-97b1-f62ec0d60069",
            "metadata": {},
            "source": [
                "Read the data with a subset of columns, capture area and set geometry to centroid, save to a Parquet."
            ]
        },
        {
            "cell_type": "code",
            "execution_count": 4,
            "id": "faccc6aa",
            "metadata": {},
            "outputs": [],
            "source": [
                "existing = glob('/data/uscuni-ulce/data_product/*.parquet')\n",
                "existing = [e for e in existing if len(Path(e).stem) == 3]\n",
                "\n",
                "extension = glob('/data/uscuni-ulce/data_product/extension_1/*.parquet')\n",
                "extension = [e for e in extension if len(Path(e).stem) == 3]\n",
                "\n",
                "fuas = existing + extension"
            ]
        },
        {
            "cell_type": "code",
            "execution_count": null,
            "id": "9e5496b6",
            "metadata": {},
            "outputs": [
                {
                    "name": "stderr",
                    "output_type": "stream",
                    "text": [
                        "  0%|          | 0/56 [00:00<?, ?it/s]"
                    ]
                }
            ],
            "source": [
                "for i, fua in tqdm(enumerate(fuas), total=len(fuas)):\n",
                "    clusters = gpd.read_parquet(fua, columns=[\"geometry\", \"level_7_label\"])\n",
                "    clusters[\"area\"] = clusters.area\n",
                "    clusters = clusters.set_geometry(clusters.centroid)\n",
                "    clusters.to_parquet(f\"/data/uscuni-boundaries/classification/part.{i}.parquet\")"
            ]
        },
        {
            "cell_type": "markdown",
            "id": "4a3049b4-2f7c-4fc6-9502-ae8c9d6ff721",
            "metadata": {},
            "source": [
                "Read all as a single GeoDataFrame."
            ]
        },
        {
            "cell_type": "code",
            "execution_count": 6,
            "id": "487dd4d3-a04a-45e1-a9d9-4c4e0f39d868",
            "metadata": {},
            "outputs": [],
            "source": [
                "complete = gpd.read_parquet(\"/data/uscuni-boundaries/classification/\")"
            ]
        }
    ],
    "metadata": {
        "kernelspec": {
            "display_name": "default",
            "language": "python",
            "name": "python3"
        },
        "language_info": {
            "codemirror_mode": {
                "name": "ipython",
                "version": 3
            },
            "file_extension": ".py",
            "mimetype": "text/x-python",
            "name": "python",
            "nbconvert_exporter": "python",
            "pygments_lexer": "ipython3",
            "version": "3.12.10"
        }
    },
    "nbformat": 4,
    "nbformat_minor": 5
}
