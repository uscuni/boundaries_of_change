{
 "cells": [
  {
   "cell_type": "markdown",
   "id": "59c4bfc8-37b7-4700-a980-60314c0772d5",
   "metadata": {},
   "source": [
    "# Generate a single file for all of regions\n",
    "\n",
    "Take all the regions and create a single file containing all the buildings represented as centroids with an information on building area and cluster."
   ]
  },
  {
   "cell_type": "code",
   "execution_count": 1,
   "id": "ec97be9c-27f3-432e-8cf8-3bf2ad3d3b5a",
   "metadata": {},
   "outputs": [],
   "source": [
    "from pathlib import Path\n",
    "from glob import glob\n",
    "import geopandas as gpd\n",
    "from tqdm.auto import tqdm"
   ]
  },
  {
   "cell_type": "markdown",
   "id": "8b78bc89-fd3a-4d52-97b1-f62ec0d60069",
   "metadata": {},
   "source": [
    "Read the data with a subset of columns, capture area and set geometry to centroid, save to a Parquet."
   ]
  },
  {
   "cell_type": "code",
   "execution_count": 2,
   "id": "faccc6aa",
   "metadata": {},
   "outputs": [],
   "source": [
    "existing = glob('/data/uscuni-ulce/data_product/*.parquet')\n",
    "existing = [e for e in existing if len(Path(e).stem) == 3]\n",
    "\n",
    "extension = glob('/data/uscuni-ulce/data_product/extension_1/*.parquet')\n",
    "extension = [e for e in extension if len(Path(e).stem) == 3]\n",
    "\n",
    "nuts = existing + extension"
   ]
  },
  {
   "cell_type": "markdown",
   "id": "70bea37c-ebdb-4bc5-9b4b-3f289b32a0d3",
   "metadata": {},
   "source": [
    "Generate centroid for original release of central europe."
   ]
  },
  {
   "cell_type": "code",
   "execution_count": 3,
   "id": "9e5496b6",
   "metadata": {},
   "outputs": [
    {
     "data": {
      "application/vnd.jupyter.widget-view+json": {
       "model_id": "cb30c4e3d8674bbc8baddb3845783dcb",
       "version_major": 2,
       "version_minor": 0
      },
      "text/plain": [
       "  0%|          | 0/29 [00:00<?, ?it/s]"
      ]
     },
     "metadata": {},
     "output_type": "display_data"
    }
   ],
   "source": [
    "for i, nut in tqdm(enumerate(existing), total=len(existing)):\n",
    "    clusters = gpd.read_parquet(nut, columns=[\"geometry\", \"level_7_label\"])\n",
    "    clusters[\"area\"] = clusters.area\n",
    "    clusters = clusters.set_geometry(clusters.centroid)\n",
    "    clusters.to_parquet(f\"/data/uscuni-boundaries/classification/v202509/part.{i}.parquet\")"
   ]
  },
  {
   "cell_type": "markdown",
   "id": "43bf6aa4-e0e4-4bfe-9183-bf4cc8c20a1d",
   "metadata": {},
   "source": [
    "Generate representaion of 2025-11 release."
   ]
  },
  {
   "cell_type": "code",
   "execution_count": 4,
   "id": "32f867ad-a27c-4fc0-9de9-427a3dfb8755",
   "metadata": {},
   "outputs": [
    {
     "data": {
      "application/vnd.jupyter.widget-view+json": {
       "model_id": "576e3fb5f45b4c6f9eefbc1b55485842",
       "version_major": 2,
       "version_minor": 0
      },
      "text/plain": [
       "  0%|          | 0/56 [00:00<?, ?it/s]"
      ]
     },
     "metadata": {},
     "output_type": "display_data"
    }
   ],
   "source": [
    "for i, nut in tqdm(enumerate(nuts), total=len(nuts)):\n",
    "    clusters = gpd.read_parquet(nut, columns=[\"geometry\", \"level_7_label\"])\n",
    "    clusters[\"area\"] = clusters.area\n",
    "    clusters = clusters.set_geometry(clusters.centroid)\n",
    "    clusters.to_parquet(f\"/data/uscuni-boundaries/classification/v202511/part.{i}.parquet\")"
   ]
  }
 ],
 "metadata": {
  "kernelspec": {
   "display_name": "Python 3 (ipykernel)",
   "language": "python",
   "name": "python3"
  },
  "language_info": {
   "codemirror_mode": {
    "name": "ipython",
    "version": 3
   },
   "file_extension": ".py",
   "mimetype": "text/x-python",
   "name": "python",
   "nbconvert_exporter": "python",
   "pygments_lexer": "ipython3",
   "version": "3.12.10"
  }
 },
 "nbformat": 4,
 "nbformat_minor": 5
}
