{
 "cells": [
  {
   "cell_type": "markdown",
   "id": "53558d0b-cb40-4f9b-96ba-6b00317eb9e7",
   "metadata": {},
   "source": [
    "# Bray–Curtis dissimilarity between regions defined by important historical boundaries"
   ]
  },
  {
   "cell_type": "markdown",
   "id": "f7fdfe5e-871d-4b87-b185-06a89ef38320",
   "metadata": {},
   "source": [
    "Compare historical regions in terms of their building composition using Bray–Curtis dissimilarity statistic."
   ]
  },
  {
   "cell_type": "code",
   "execution_count": 1,
   "id": "00477957-a9da-42c6-a33f-2e6aae544f3a",
   "metadata": {},
   "outputs": [],
   "source": [
    "import geopandas as gpd\n",
    "import pandas as pd\n",
    "import scipy.stats as stats\n",
    "import shapely\n",
    "import seaborn as sns\n",
    "import numpy as np\n",
    "import matplotlib.pyplot as plt\n",
    "from libpysal import graph\n",
    "from scipy.spatial import distance\n",
    "import os\n",
    "\n",
    "import preprocess_data"
   ]
  },
  {
   "cell_type": "markdown",
   "id": "61109b0e-cd42-4c67-946a-ca3f9b334124",
   "metadata": {},
   "source": [
    "Retrieve building dataset and levels of clusters"
   ]
  },
  {
   "cell_type": "code",
   "execution_count": null,
   "id": "cb1b2346-8b2e-4048-8056-ee0c694213ec",
   "metadata": {
    "editable": true,
    "slideshow": {
     "slide_type": ""
    },
    "tags": []
   },
   "outputs": [],
   "source": [
    "buildings, levels = preprocess_data.get_buildings(\"/data/uscuni-ulce/boundaries_of_change/classification/\")"
   ]
  },
  {
   "cell_type": "markdown",
   "id": "d6cefda5-2842-49da-ab3b-b8d154801492",
   "metadata": {},
   "source": [
    "List layers of influential boundaries across Central European history"
   ]
  },
  {
   "cell_type": "code",
   "execution_count": null,
   "id": "164dbecb-88ba-4651-bac5-fcc77264b9ca",
   "metadata": {},
   "outputs": [],
   "source": [
    "gpd.list_layers(\"/data/uscuni-ulce/boundaries_of_change/impact_boundaries.gpkg\")"
   ]
  },
  {
   "cell_type": "code",
   "execution_count": null,
   "id": "26f6e990-a1c2-4e2a-853b-a0e78054cae8",
   "metadata": {},
   "outputs": [],
   "source": [
    "boundary_list = list(gpd.list_layers(\"/data/uscuni-ulce/boundaries_of_change/impact_boundaries.gpkg\").name)\n",
    "boundary_list.remove(\"1812_political\") #to be fixed\n",
    "boundary_list.remove(\"1900_germans\") #to be fixed\n",
    "boundary_list.remove(\"1300_ostsiedlung\") #to be fixed"
   ]
  },
  {
   "cell_type": "markdown",
   "id": "84359872-ca17-4f67-82dc-1a44157863d0",
   "metadata": {},
   "source": [
    "Define area of interest (Central Europe sans Hungary)"
   ]
  },
  {
   "cell_type": "code",
   "execution_count": null,
   "id": "7c36d9c8-3f50-4d18-a2fd-d18b6d274eed",
   "metadata": {},
   "outputs": [],
   "source": [
    "aoi = gpd.read_file(\"/data/uscuni-ulce/boundaries_of_change/impact_boundaries.gpkg\", layer=\"1994_political\")\n",
    "aoi = aoi.dissolve()\n",
    "aoi.plot()"
   ]
  },
  {
   "cell_type": "markdown",
   "id": "284f5743-dafa-4a58-bedf-0bc3d0a217ac",
   "metadata": {},
   "source": [
    "**Example**: Consider `1994_political` map"
   ]
  },
  {
   "cell_type": "code",
   "execution_count": null,
   "id": "7f070732-bbd4-4531-8fab-34621538363d",
   "metadata": {},
   "outputs": [],
   "source": [
    "layer_of_interest = boundary_list[-1]"
   ]
  },
  {
   "cell_type": "markdown",
   "id": "cba75ef4-3223-4bd5-a672-ce23f417d920",
   "metadata": {},
   "source": [
    "Retrieve building counts per region and normalize"
   ]
  },
  {
   "cell_type": "code",
   "execution_count": null,
   "id": "e76d58d0-0b3d-4774-9862-28b0fc5600b7",
   "metadata": {},
   "outputs": [],
   "source": [
    "building_counts = preprocess_data.get_building_counts_per_region(buildings, gpd.read_file(\"/data/uscuni-ulce/boundaries_of_change/impact_boundaries.gpkg\", layer=layer_of_interest))"
   ]
  },
  {
   "cell_type": "code",
   "execution_count": null,
   "id": "5b3dec1f-ec80-4bb5-8890-906baa5b24ba",
   "metadata": {},
   "outputs": [],
   "source": [
    "normalized_building_counts = preprocess_data.normalize_building_counts(building_counts)"
   ]
  },
  {
   "cell_type": "code",
   "execution_count": null,
   "id": "51ee6f1d-1e6e-42f9-9779-b81813b6e5b3",
   "metadata": {},
   "outputs": [],
   "source": [
    "normalized_building_counts"
   ]
  },
  {
   "cell_type": "markdown",
   "id": "db6c674b-d8ac-436a-aeda-a694dfe5c633",
   "metadata": {},
   "source": [
    "Compute pairwise Bray–Curtis dissimilarity matrix"
   ]
  },
  {
   "cell_type": "code",
   "execution_count": null,
   "id": "c9d7783b-a100-47d2-9b78-bec4da4a63c8",
   "metadata": {},
   "outputs": [],
   "source": [
    "def compute_bc_matrix(count_table):\n",
    "    bray_curtis_dist = distance.pdist(count_table, metric='braycurtis')\n",
    "    bray_curtis_matrix = distance.squareform(bray_curtis_dist)\n",
    "    bray_curtis_df = pd.DataFrame(bray_curtis_matrix, index=count_table.T.columns, columns=count_table.T.columns)\n",
    "    return bray_curtis_df"
   ]
  },
  {
   "cell_type": "code",
   "execution_count": null,
   "id": "1d56162b-03be-439d-8380-d7b1277f578f",
   "metadata": {},
   "outputs": [],
   "source": [
    "bray_curtis_matrix = compute_bc_matrix(normalized_building_counts)\n",
    "bray_curtis_matrix"
   ]
  },
  {
   "cell_type": "markdown",
   "id": "0432725b-f26d-4ea6-97d0-c65f2bc272e6",
   "metadata": {},
   "source": [
    "Plot as a heatmap"
   ]
  },
  {
   "cell_type": "code",
   "execution_count": null,
   "id": "1d6e5490-5989-4c7f-95aa-708974a53358",
   "metadata": {},
   "outputs": [],
   "source": [
    "sns.heatmap(bray_curtis_matrix, annot=True)"
   ]
  },
  {
   "cell_type": "markdown",
   "id": "de23f6a5-241d-4cb9-95e7-64e176d4d98e",
   "metadata": {},
   "source": [
    "Compute Bray–Curtis matrix for each cluster level"
   ]
  },
  {
   "cell_type": "code",
   "execution_count": null,
   "id": "29954311-19b7-49a3-b905-49c14d32d688",
   "metadata": {},
   "outputs": [],
   "source": [
    "def generate_bc_heatmaps_for_boundary(level_list, boundary_name):\n",
    "\n",
    "    fig, axs = plt.subplots(2, 3, figsize=(18, 10))\n",
    "    axs = axs.flatten()\n",
    "    \n",
    "    for level, ax in zip(level_list, axs):\n",
    "        bc = pd.read_parquet(f'/data/uscuni-ulce/boundaries_of_change/bc_matrices/bc_{boundary_name}_{level}.pq')\n",
    "        sns.heatmap(bc, annot=True, ax=ax)\n",
    "        ax.set_title(level)\n",
    "\n",
    "    fig.suptitle(boundary_name)\n",
    "    fig.tight_layout()"
   ]
  },
  {
   "cell_type": "code",
   "execution_count": null,
   "id": "456ea3d0-516e-422e-83ea-a6ca75fff031",
   "metadata": {},
   "outputs": [],
   "source": [
    "generate_bc_heatmaps_for_boundary(levels, layer_of_interest)"
   ]
  },
  {
   "cell_type": "markdown",
   "id": "686bc95f-9dbe-4433-8a5c-0049922ac155",
   "metadata": {},
   "source": [
    "## Run to generate Bray–Curtis matrices for each level and historical layer, save to parquet"
   ]
  },
  {
   "cell_type": "code",
   "execution_count": 13,
   "id": "0685574e-ef46-481d-906f-67f60013b7d7",
   "metadata": {},
   "outputs": [],
   "source": [
    "from tqdm.auto import tqdm\n",
    "\n",
    "def generate_bc_matrices(list_of_boundaries, level_list):\n",
    "    bc_matrices_path = \"/data/uscuni-ulce/boundaries_of_change/bc_matrices/\"\n",
    "    if not os.path.exists(bc_matrices_path):\n",
    "        os.mkdir(bc_matrices_path)\n",
    "    for bnd in tqdm(list_of_boundaries, desc=f\"Processing boundaries...\"):\n",
    "        boundary = gpd.read_file(\"/data/uscuni-ulce/boundaries_of_change/impact_boundaries.gpkg\", layer=bnd)\n",
    "        \n",
    "        for level in tqdm(level_list, desc=f\"Generating matrices for {bnd}\"):\n",
    "            building_counts = preprocess_data.get_building_counts_per_region(buildings, boundary, level)\n",
    "            building_counts_norm = preprocess_data.normalize_building_counts(building_counts)\n",
    "            \n",
    "            bray_curtis_matrix = compute_bc_matrix(building_counts_norm)\n",
    "            output_path = os.path.join(bc_matrices_path, f'bc_{bnd}_{level}.pq')\n",
    "            bray_curtis_matrix.to_parquet(output_path)"
   ]
  },
  {
   "cell_type": "code",
   "execution_count": 14,
   "id": "795e076d-1060-4272-aad7-b0530297b041",
   "metadata": {},
   "outputs": [
    {
     "name": "stderr",
     "output_type": "stream",
     "text": [
      "Processing boundaries...:   0%|                                                                  | 0/15 [00:00<?, ?it/s]\n",
      "\u001b[Aerating matrices for 1240_mongol_invasion:   0%|                                               | 0/7 [00:00<?, ?it/s]\n",
      "\u001b[Aerating matrices for 1240_mongol_invasion:  14%|█████▌                                 | 1/7 [00:25<02:32, 25.37s/it]\n",
      "\u001b[Aerating matrices for 1240_mongol_invasion:  29%|███████████▏                           | 2/7 [00:50<02:06, 25.39s/it]\n",
      "\u001b[Aerating matrices for 1240_mongol_invasion:  43%|████████████████▋                      | 3/7 [01:16<01:41, 25.37s/it]\n",
      "\u001b[Aerating matrices for 1240_mongol_invasion:  57%|██████████████████████▎                | 4/7 [01:41<01:16, 25.37s/it]\n",
      "\u001b[Aerating matrices for 1240_mongol_invasion:  71%|███████████████████████████▊           | 5/7 [02:06<00:50, 25.39s/it]\n",
      "\u001b[Aerating matrices for 1240_mongol_invasion:  86%|█████████████████████████████████▍     | 6/7 [02:32<00:25, 25.35s/it]\n",
      "Generating matrices for 1240_mongol_invasion: 100%|███████████████████████████████████████| 7/7 [02:57<00:00, 25.36s/it]\n",
      "Processing boundaries...:   7%|███▊                                                     | 1/15 [02:57<41:25, 177.52s/it]\n",
      "\u001b[Aerating matrices for 900_political:   0%|                                                      | 0/7 [00:00<?, ?it/s]\n",
      "\u001b[Aerating matrices for 900_political:  14%|██████▌                                       | 1/7 [00:25<02:34, 25.80s/it]\n",
      "\u001b[Aerating matrices for 900_political:  29%|█████████████▏                                | 2/7 [00:52<02:10, 26.05s/it]\n",
      "\u001b[Aerating matrices for 900_political:  43%|███████████████████▋                          | 3/7 [01:18<01:44, 26.03s/it]\n",
      "\u001b[Aerating matrices for 900_political:  57%|██████████████████████████▎                   | 4/7 [01:44<01:18, 26.13s/it]\n",
      "\u001b[Aerating matrices for 900_political:  71%|████████████████████████████████▊             | 5/7 [02:10<00:52, 26.23s/it]\n",
      "\u001b[Aerating matrices for 900_political:  86%|███████████████████████████████████████▍      | 6/7 [02:36<00:26, 26.12s/it]\n",
      "Generating matrices for 900_political: 100%|██████████████████████████████████████████████| 7/7 [03:02<00:00, 26.12s/it]\n",
      "Processing boundaries...:  13%|███████▌                                                 | 2/15 [06:00<39:08, 180.64s/it]\n",
      "\u001b[Aerating matrices for 1000_political:   0%|                                                     | 0/7 [00:00<?, ?it/s]\n",
      "\u001b[Aerating matrices for 1000_political:  14%|██████▍                                      | 1/7 [00:25<02:31, 25.23s/it]\n",
      "\u001b[Aerating matrices for 1000_political:  29%|████████████▊                                | 2/7 [00:50<02:06, 25.30s/it]\n",
      "\u001b[Aerating matrices for 1000_political:  43%|███████████████████▎                         | 3/7 [01:15<01:41, 25.25s/it]\n",
      "\u001b[Aerating matrices for 1000_political:  57%|█████████████████████████▋                   | 4/7 [01:40<01:15, 25.20s/it]\n",
      "\u001b[Aerating matrices for 1000_political:  71%|████████████████████████████████▏            | 5/7 [02:05<00:50, 25.06s/it]\n",
      "\u001b[Aerating matrices for 1000_political:  86%|██████████████████████████████████████▌      | 6/7 [02:30<00:24, 24.95s/it]\n",
      "Generating matrices for 1000_political: 100%|█████████████████████████████████████████████| 7/7 [02:55<00:00, 25.04s/it]\n",
      "Processing boundaries...:  20%|███████████▍                                             | 3/15 [08:55<35:38, 178.19s/it]\n",
      "\u001b[Aerating matrices for 1550_religion:   0%|                                                      | 0/7 [00:00<?, ?it/s]\n",
      "\u001b[Aerating matrices for 1550_religion:  14%|██████▌                                       | 1/7 [00:30<03:03, 30.52s/it]\n",
      "\u001b[Aerating matrices for 1550_religion:  29%|█████████████▏                                | 2/7 [01:00<02:31, 30.38s/it]\n",
      "\u001b[Aerating matrices for 1550_religion:  43%|███████████████████▋                          | 3/7 [01:31<02:01, 30.32s/it]\n",
      "\u001b[Aerating matrices for 1550_religion:  57%|██████████████████████████▎                   | 4/7 [02:01<01:31, 30.35s/it]\n",
      "\u001b[Aerating matrices for 1550_religion:  71%|████████████████████████████████▊             | 5/7 [02:32<01:01, 30.53s/it]\n",
      "\u001b[Aerating matrices for 1550_religion:  86%|███████████████████████████████████████▍      | 6/7 [03:03<00:30, 30.91s/it]\n",
      "Generating matrices for 1550_religion: 100%|██████████████████████████████████████████████| 7/7 [03:34<00:00, 30.61s/it]\n",
      "Processing boundaries...:  27%|███████████████▏                                         | 4/15 [12:29<35:16, 192.42s/it]\n",
      "\u001b[Aerating matrices for 1526_political:   0%|                                                     | 0/7 [00:00<?, ?it/s]\n",
      "\u001b[Aerating matrices for 1526_political:  14%|██████▍                                      | 1/7 [00:25<02:31, 25.29s/it]\n",
      "\u001b[Aerating matrices for 1526_political:  29%|████████████▊                                | 2/7 [00:50<02:06, 25.27s/it]\n",
      "\u001b[Aerating matrices for 1526_political:  43%|███████████████████▎                         | 3/7 [01:15<01:41, 25.26s/it]\n",
      "\u001b[Aerating matrices for 1526_political:  57%|█████████████████████████▋                   | 4/7 [01:41<01:15, 25.25s/it]\n",
      "\u001b[Aerating matrices for 1526_political:  71%|████████████████████████████████▏            | 5/7 [02:06<00:50, 25.26s/it]\n",
      "\u001b[Aerating matrices for 1526_political:  86%|██████████████████████████████████████▌      | 6/7 [02:31<00:25, 25.31s/it]\n",
      "Generating matrices for 1526_political: 100%|█████████████████████████████████████████████| 7/7 [02:57<00:00, 25.29s/it]\n",
      "Processing boundaries...:  33%|███████████████████                                      | 5/15 [15:26<31:08, 186.88s/it]\n",
      "\u001b[Aerating matrices for 1618_political:   0%|                                                     | 0/7 [00:00<?, ?it/s]\n",
      "\u001b[Aerating matrices for 1618_political:  14%|██████▍                                      | 1/7 [00:28<02:50, 28.47s/it]\n",
      "\u001b[Aerating matrices for 1618_political:  29%|████████████▊                                | 2/7 [00:56<02:22, 28.50s/it]\n",
      "\u001b[Aerating matrices for 1618_political:  43%|███████████████████▎                         | 3/7 [01:26<01:55, 28.83s/it]\n",
      "\u001b[Aerating matrices for 1618_political:  57%|█████████████████████████▋                   | 4/7 [01:55<01:26, 28.84s/it]\n",
      "\u001b[Aerating matrices for 1618_political:  71%|████████████████████████████████▏            | 5/7 [02:23<00:57, 28.84s/it]\n",
      "\u001b[Aerating matrices for 1618_political:  86%|██████████████████████████████████████▌      | 6/7 [02:52<00:28, 28.91s/it]\n",
      "Generating matrices for 1618_political: 100%|█████████████████████████████████████████████| 7/7 [03:21<00:00, 28.77s/it]\n",
      "Processing boundaries...:  40%|██████████████████████▊                                  | 6/15 [18:48<28:46, 191.82s/it]\n",
      "\u001b[Aerating matrices for 1648_political:   0%|                                                     | 0/7 [00:00<?, ?it/s]\n",
      "\u001b[Aerating matrices for 1648_political:  14%|██████▍                                      | 1/7 [00:28<02:52, 28.82s/it]\n",
      "\u001b[Aerating matrices for 1648_political:  29%|████████████▊                                | 2/7 [00:57<02:24, 28.89s/it]\n",
      "\u001b[Aerating matrices for 1648_political:  43%|███████████████████▎                         | 3/7 [01:27<01:57, 29.28s/it]\n",
      "\u001b[Aerating matrices for 1648_political:  57%|█████████████████████████▋                   | 4/7 [01:57<01:28, 29.41s/it]\n",
      "\u001b[Aerating matrices for 1648_political:  71%|████████████████████████████████▏            | 5/7 [02:28<01:00, 30.27s/it]\n",
      "\u001b[Aerating matrices for 1648_political:  86%|██████████████████████████████████████▌      | 6/7 [02:58<00:29, 29.90s/it]\n",
      "Generating matrices for 1648_political: 100%|█████████████████████████████████████████████| 7/7 [03:26<00:00, 29.54s/it]\n",
      "Processing boundaries...:  47%|██████████████████████████▌                              | 7/15 [22:15<26:13, 196.71s/it]\n",
      "\u001b[Aerating matrices for 1600_religion:   0%|                                                      | 0/7 [00:00<?, ?it/s]\n",
      "\u001b[Aerating matrices for 1600_religion:  14%|██████▌                                       | 1/7 [00:30<03:02, 30.45s/it]\n",
      "\u001b[Aerating matrices for 1600_religion:  29%|█████████████▏                                | 2/7 [01:00<02:32, 30.44s/it]\n",
      "\u001b[Aerating matrices for 1600_religion:  43%|███████████████████▋                          | 3/7 [01:31<02:01, 30.48s/it]\n",
      "\u001b[Aerating matrices for 1600_religion:  57%|██████████████████████████▎                   | 4/7 [02:01<01:31, 30.45s/it]\n",
      "\u001b[Aerating matrices for 1600_religion:  71%|████████████████████████████████▊             | 5/7 [02:32<01:00, 30.42s/it]\n",
      "\u001b[Aerating matrices for 1600_religion:  86%|███████████████████████████████████████▍      | 6/7 [03:02<00:30, 30.41s/it]\n",
      "Generating matrices for 1600_religion: 100%|██████████████████████████████████████████████| 7/7 [03:32<00:00, 30.42s/it]\n",
      "Processing boundaries...:  53%|██████████████████████████████▍                          | 8/15 [25:48<23:33, 201.89s/it]\n",
      "\u001b[Aerating matrices for 1871_political:   0%|                                                     | 0/7 [00:00<?, ?it/s]\n",
      "\u001b[Aerating matrices for 1871_political:  14%|██████▍                                      | 1/7 [00:29<02:55, 29.23s/it]\n",
      "\u001b[Aerating matrices for 1871_political:  29%|████████████▊                                | 2/7 [00:58<02:26, 29.29s/it]\n",
      "\u001b[Aerating matrices for 1871_political:  43%|███████████████████▎                         | 3/7 [01:27<01:56, 29.25s/it]\n",
      "\u001b[Aerating matrices for 1871_political:  57%|█████████████████████████▋                   | 4/7 [01:56<01:27, 29.22s/it]\n",
      "\u001b[Aerating matrices for 1871_political:  71%|████████████████████████████████▏            | 5/7 [02:26<00:58, 29.20s/it]\n",
      "\u001b[Aerating matrices for 1871_political:  86%|██████████████████████████████████████▌      | 6/7 [02:55<00:29, 29.19s/it]\n",
      "Generating matrices for 1871_political: 100%|█████████████████████████████████████████████| 7/7 [03:24<00:00, 29.21s/it]\n",
      "Processing boundaries...:  60%|██████████████████████████████████▏                      | 9/15 [29:12<20:16, 202.69s/it]\n",
      "\u001b[Aerating matrices for 1850_languages:   0%|                                                     | 0/7 [00:00<?, ?it/s]\n",
      "\u001b[Aerating matrices for 1850_languages:  14%|██████▍                                      | 1/7 [00:25<02:34, 25.72s/it]\n",
      "\u001b[Aerating matrices for 1850_languages:  29%|████████████▊                                | 2/7 [00:51<02:08, 25.73s/it]\n",
      "\u001b[Aerating matrices for 1850_languages:  43%|███████████████████▎                         | 3/7 [01:17<01:42, 25.71s/it]\n",
      "\u001b[Aerating matrices for 1850_languages:  57%|█████████████████████████▋                   | 4/7 [01:42<01:17, 25.70s/it]\n",
      "\u001b[Aerating matrices for 1850_languages:  71%|████████████████████████████████▏            | 5/7 [02:08<00:51, 25.69s/it]\n",
      "\u001b[Aerating matrices for 1850_languages:  86%|██████████████████████████████████████▌      | 6/7 [02:34<00:25, 25.86s/it]\n",
      "Generating matrices for 1850_languages: 100%|█████████████████████████████████████████████| 7/7 [03:01<00:00, 25.89s/it]\n",
      "Processing boundaries...:  67%|█████████████████████████████████████▎                  | 10/15 [32:13<16:20, 196.06s/it]\n",
      "\u001b[Aerating matrices for 1920_political:   0%|                                                     | 0/7 [00:00<?, ?it/s]\n",
      "\u001b[Aerating matrices for 1920_political:  14%|██████▍                                      | 1/7 [00:29<02:57, 29.53s/it]\n",
      "\u001b[Aerating matrices for 1920_political:  29%|████████████▊                                | 2/7 [01:00<02:30, 30.12s/it]\n",
      "\u001b[Aerating matrices for 1920_political:  43%|███████████████████▎                         | 3/7 [01:29<01:59, 29.79s/it]\n",
      "\u001b[Aerating matrices for 1920_political:  57%|█████████████████████████▋                   | 4/7 [01:58<01:28, 29.62s/it]\n",
      "\u001b[Aerating matrices for 1920_political:  71%|████████████████████████████████▏            | 5/7 [02:28<00:59, 29.61s/it]\n",
      "\u001b[Aerating matrices for 1920_political:  86%|██████████████████████████████████████▌      | 6/7 [02:57<00:29, 29.43s/it]\n",
      "Generating matrices for 1920_political: 100%|█████████████████████████████████████████████| 7/7 [03:27<00:00, 29.57s/it]\n",
      "Processing boundaries...:  73%|█████████████████████████████████████████               | 11/15 [35:40<13:17, 199.41s/it]\n",
      "\u001b[Aerating matrices for 1930_political:   0%|                                                     | 0/7 [00:00<?, ?it/s]\n",
      "\u001b[Aerating matrices for 1930_political:  14%|██████▍                                      | 1/7 [00:29<02:55, 29.30s/it]\n",
      "\u001b[Aerating matrices for 1930_political:  29%|████████████▊                                | 2/7 [00:59<02:28, 29.65s/it]\n",
      "\u001b[Aerating matrices for 1930_political:  43%|███████████████████▎                         | 3/7 [01:27<01:56, 29.16s/it]\n",
      "\u001b[Aerating matrices for 1930_political:  57%|█████████████████████████▋                   | 4/7 [01:56<01:26, 28.85s/it]\n",
      "\u001b[Aerating matrices for 1930_political:  71%|████████████████████████████████▏            | 5/7 [02:24<00:57, 28.69s/it]\n",
      "\u001b[Aerating matrices for 1930_political:  86%|██████████████████████████████████████▌      | 6/7 [02:53<00:28, 28.66s/it]\n",
      "Generating matrices for 1930_political: 100%|█████████████████████████████████████████████| 7/7 [03:21<00:00, 28.80s/it]\n",
      "Processing boundaries...:  80%|████████████████████████████████████████████▊           | 12/15 [39:02<10:00, 200.09s/it]\n",
      "\u001b[Aerating matrices for 1938_political:   0%|                                                     | 0/7 [00:00<?, ?it/s]\n",
      "\u001b[Aerating matrices for 1938_political:  14%|██████▍                                      | 1/7 [00:28<02:48, 28.12s/it]\n",
      "\u001b[Aerating matrices for 1938_political:  29%|████████████▊                                | 2/7 [00:56<02:19, 27.98s/it]\n",
      "\u001b[Aerating matrices for 1938_political:  43%|███████████████████▎                         | 3/7 [01:24<01:52, 28.06s/it]\n",
      "\u001b[Aerating matrices for 1938_political:  57%|█████████████████████████▋                   | 4/7 [01:51<01:23, 27.91s/it]\n",
      "\u001b[Aerating matrices for 1938_political:  71%|████████████████████████████████▏            | 5/7 [02:19<00:55, 27.79s/it]\n",
      "\u001b[Aerating matrices for 1938_political:  86%|██████████████████████████████████████▌      | 6/7 [02:47<00:27, 27.72s/it]\n",
      "Generating matrices for 1938_political: 100%|█████████████████████████████████████████████| 7/7 [03:14<00:00, 27.79s/it]\n",
      "Processing boundaries...:  87%|████████████████████████████████████████████████▌       | 13/15 [42:16<06:36, 198.40s/it]\n",
      "\u001b[Aerating matrices for 1960_political:   0%|                                                     | 0/7 [00:00<?, ?it/s]\n",
      "\u001b[Aerating matrices for 1960_political:  14%|██████▍                                      | 1/7 [00:27<02:43, 27.29s/it]\n",
      "\u001b[Aerating matrices for 1960_political:  29%|████████████▊                                | 2/7 [00:54<02:16, 27.27s/it]\n",
      "\u001b[Aerating matrices for 1960_political:  43%|███████████████████▎                         | 3/7 [01:21<01:48, 27.23s/it]\n",
      "\u001b[Aerating matrices for 1960_political:  57%|█████████████████████████▋                   | 4/7 [01:48<01:21, 27.21s/it]\n",
      "\u001b[Aerating matrices for 1960_political:  71%|████████████████████████████████▏            | 5/7 [02:16<00:54, 27.18s/it]\n",
      "\u001b[Aerating matrices for 1960_political:  86%|██████████████████████████████████████▌      | 6/7 [02:43<00:27, 27.16s/it]\n",
      "Generating matrices for 1960_political: 100%|█████████████████████████████████████████████| 7/7 [03:10<00:00, 27.19s/it]\n",
      "Processing boundaries...:  93%|████████████████████████████████████████████████████▎   | 14/15 [45:27<03:15, 195.96s/it]\n",
      "\u001b[Aerating matrices for 1994_political:   0%|                                                     | 0/7 [00:00<?, ?it/s]\n",
      "\u001b[Aerating matrices for 1994_political:  14%|██████▍                                      | 1/7 [00:25<02:33, 25.63s/it]\n",
      "\u001b[Aerating matrices for 1994_political:  29%|████████████▊                                | 2/7 [00:51<02:08, 25.62s/it]\n",
      "\u001b[Aerating matrices for 1994_political:  43%|███████████████████▎                         | 3/7 [01:16<01:42, 25.62s/it]\n",
      "\u001b[Aerating matrices for 1994_political:  57%|█████████████████████████▋                   | 4/7 [01:42<01:16, 25.62s/it]\n",
      "\u001b[Aerating matrices for 1994_political:  71%|████████████████████████████████▏            | 5/7 [02:08<00:51, 25.63s/it]\n",
      "\u001b[Aerating matrices for 1994_political:  86%|██████████████████████████████████████▌      | 6/7 [02:33<00:25, 25.63s/it]\n",
      "Generating matrices for 1994_political: 100%|█████████████████████████████████████████████| 7/7 [02:59<00:00, 25.63s/it]\n",
      "Processing boundaries...: 100%|████████████████████████████████████████████████████████| 15/15 [48:26<00:00, 193.78s/it]\n"
     ]
    }
   ],
   "source": [
    "generate_bc_matrices(boundary_list, levels)"
   ]
  },
  {
   "cell_type": "code",
   "execution_count": null,
   "id": "78b90998-fb2e-4424-94bd-ae200b133093",
   "metadata": {},
   "outputs": [],
   "source": []
  }
 ],
 "metadata": {
  "kernelspec": {
   "display_name": "Python 3 (ipykernel)",
   "language": "python",
   "name": "python3"
  },
  "language_info": {
   "codemirror_mode": {
    "name": "ipython",
    "version": 3
   },
   "file_extension": ".py",
   "mimetype": "text/x-python",
   "name": "python",
   "nbconvert_exporter": "python",
   "pygments_lexer": "ipython3",
   "version": "3.12.10"
  }
 },
 "nbformat": 4,
 "nbformat_minor": 5
}
